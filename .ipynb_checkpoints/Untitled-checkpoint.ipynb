{
 "cells": [
  {
   "cell_type": "code",
   "execution_count": 1,
   "metadata": {},
   "outputs": [],
   "source": [
    "from Graph_tool import multigraph as mg;\n",
    "from Graph_tool import direct_multigraph as dmg;\n"
   ]
  },
  {
   "cell_type": "code",
   "execution_count": 19,
   "metadata": {},
   "outputs": [],
   "source": [
    "multigraph.write_vertex(G,'test_ver.txt')"
   ]
  },
  {
   "cell_type": "code",
   "execution_count": 107,
   "metadata": {},
   "outputs": [
    {
     "name": "stdout",
     "output_type": "stream",
     "text": [
      "List of vertex(ices)\n",
      "1\n",
      "2\n",
      "3\n",
      "List of edge(s)\n",
      "12\n",
      "23\n",
      "22\n",
      "33\n",
      "Adjacency matrix\n",
      "[[0 1 0]\n",
      " [0 1 1]\n",
      " [0 0 1]]\n",
      "Incidence matrix\n",
      "[[1 0 0 0]\n",
      " [0 1 1 0]\n",
      " [0 0 0 1]]\n"
     ]
    }
   ],
   "source": [
    "G = multigraph(3,4);\n",
    "G = multigraph.set_vertex(G,[\"1\",\"2\",\"3\"]);\n",
    "G = multigraph.set_edge(G,[\"12\",\"23\",\"22\",\"33\"]);\n",
    "multigraph.set_adjMatrix(G,0,1,1);\n",
    "multigraph.set_adjMatrix(G,1,2,1);\n",
    "multigraph.set_adjMatrix(G,1,1,1);\n",
    "multigraph.set_adjMatrix(G,2,2,1);\n",
    "multigraph.set_inMatrix(G,0,0,1);\n",
    "multigraph.set_inMatrix(G,1,1,1);\n",
    "multigraph.set_inMatrix(G,1,2,1);\n",
    "multigraph.set_inMatrix(G,2,3,1);\n",
    "multigraph.display_vertex(G);\n",
    "multigraph.display_edge(G);\n",
    "multigraph.display_adjMatrix(G);\n",
    "multigraph.display_inMatrix(G);\n"
   ]
  },
  {
   "cell_type": "code",
   "execution_count": 115,
   "metadata": {},
   "outputs": [
    {
     "name": "stdout",
     "output_type": "stream",
     "text": [
      "List of arc(s)\n",
      "(1,2)\n",
      "(2,1)\n",
      "(3,1)\n",
      "(3,2)\n",
      "List of node(s)\n",
      "1\n",
      "2\n",
      "3\n",
      "Adjacency matrix\n",
      "[[0 0 0]\n",
      " [0 0 0]\n",
      " [0 0 0]]\n",
      "Incoming incidence matrix\n",
      "[[0 0 0 0]\n",
      " [0 0 0 0]\n",
      " [0 0 0 0]]\n",
      "Outgoing incidence matrix\n",
      "[[0 0 0 0]\n",
      " [0 0 0 0]\n",
      " [0 0 0 0]]\n"
     ]
    }
   ],
   "source": [
    "del G;\n",
    "G = dmg(3,4);\n",
    "G = dmg.set_node(G,[\"1\",\"2\",\"3\"]);\n",
    "G = dmg.set_arc(G,[\"(1,2)\",\"(2,1)\",\"(3,1)\",\"(3,2)\"]);\n",
    "dmg.display_arc(G);\n",
    "dmg.display_node(G);\n",
    "dmg.display_adjMatrix(G);\n",
    "dmg.display_inInMatrix(G);\n",
    "dmg.display_outInMatrix(G);\n",
    "#del G;"
   ]
  },
  {
   "cell_type": "code",
   "execution_count": 105,
   "metadata": {},
   "outputs": [],
   "source": [
    "import sys\n",
    "import numpy as np \n",
    "class multigraph:\n",
    "    def __init__(self,nbver,nbedge):\n",
    "        self.Nver = nbver\n",
    "        self.Nedge = nbedge\n",
    "        self.Vertices = []\n",
    "        self.Edges = []\n",
    "        self.adjMatrix = np.zeros((self.Nver,self.Nver),dtype=np.uint) \n",
    "        self.inMatrix = np.zeros((self.Nver,self.Nedge),dtype=np.uint)\n",
    "    def set_vertex(self,vert_list):\n",
    "        for vertex in vert_list:\n",
    "            self.Vertices.append(vertex);\n",
    "        return self;\n",
    "    def set_edge(self,Edges_list):\n",
    "        for edge in Edges_list:\n",
    "            self.Edges.append(edge);\n",
    "        return self;\n",
    "    def set_adjMatrix(self,i,j,x):\n",
    "        nrow = self.adjMatrix.shape[0];\n",
    "        ncol = self.adjMatrix.shape[1];\n",
    "        if ((i>=nrow)or(j>=ncol)):\n",
    "            print(\"Out of range!\");\n",
    "        else:\n",
    "            self.adjMatrix[i,j] = x;\n",
    "        return self;\n",
    "    def set_inMatrix(self,i,j,x):\n",
    "        nrow = self.inMatrix.shape[0];\n",
    "        ncol = self.inMatrix.shape[1];\n",
    "        if ((i>=nrow)or(j>=ncol)):\n",
    "            print(\"Out of range!\");\n",
    "        else:\n",
    "            self.inMatrix[i,j] = x;\n",
    "        return self;\n",
    "    def display_vertex(self):\n",
    "        VERTS = self.Vertices;\n",
    "        print(\"List of vertex(ices)\")\n",
    "        for k in range(0,len(VERTS)):\n",
    "            print(VERTS[k]);\n",
    "    def display_edge(self):\n",
    "        EDGES = self.Edges;\n",
    "        print(\"List of edge(s)\")\n",
    "        for k in range(0,len(EDGES)):\n",
    "            print(EDGES[k]); \n",
    "    def display_adjMatrix(G):\n",
    "        print(\"Adjacency matrix\");\n",
    "        M = G.adjMatrix;\n",
    "        print(M);\n",
    "    def display_inMatrix(G):\n",
    "        print(\"Incidence matrix\");\n",
    "        M = G.inMatrix;\n",
    "        print(M);\n",
    "    def write_vertex(self,the_filename):\n",
    "        with open(the_filename, 'w') as file:\n",
    "            for v in self.Vertices:\n",
    "                file.write('%s\\n' % v)\n",
    "            file.close()\n",
    "    def read_vertex(self,the_filename):\n",
    "        with open(the_filename, 'r') as filehandle:\n",
    "            filecontents = filehandle.readlines()\n",
    "\n",
    "            for line in filecontents:\n",
    "                current_place = line[:-1]\n",
    "                self.Vertices.append(current_place)\n",
    "            filehandle.close()\n",
    "        return self\n",
    "    def write_edges(self,the_filename):\n",
    "        with open(the_filename, 'w') as file:\n",
    "            for v in self.Edges:\n",
    "                file.write('%s\\n' % v)\n",
    "            file.close()\n",
    "    def read_edges(self,the_filename):\n",
    "        with open(the_filename, 'r') as filehandle:\n",
    "            filecontents = filehandle.readlines()\n",
    "            for line in filecontents:\n",
    "                current_place = line[:-1]\n",
    "                self.Edges.append(current_place)\n",
    "            filehandle.close()\n",
    "        return self\n",
    "    def write_adjMatrix(self,filename):\n",
    "        np.savetxt(filename, self.adjMatrix, fmt= '%5.0f')\n",
    "    def read_adjMatrix(self,filename):\n",
    "        y = np.loadtxt(\"test1.txt\")\n",
    "        self.adjMatrix=y.astype(int)\n",
    "        return self"
   ]
  },
  {
   "cell_type": "code",
   "execution_count": 97,
   "metadata": {},
   "outputs": [],
   "source": [
    "multigraph.write_vertex(G,'test_ver.txt')"
   ]
  },
  {
   "cell_type": "code",
   "execution_count": 98,
   "metadata": {},
   "outputs": [],
   "source": [
    "H = multigraph(3,4)\n",
    "H=multigraph.read_vertex(H,'test_ver.txt')\n"
   ]
  },
  {
   "cell_type": "code",
   "execution_count": 99,
   "metadata": {},
   "outputs": [
    {
     "name": "stdout",
     "output_type": "stream",
     "text": [
      "List of vertex(ices)\n",
      "1\n",
      "2\n",
      "3\n"
     ]
    }
   ],
   "source": [
    "multigraph.display_vertex(H)"
   ]
  },
  {
   "cell_type": "code",
   "execution_count": 100,
   "metadata": {},
   "outputs": [
    {
     "name": "stdout",
     "output_type": "stream",
     "text": [
      "List of vertex(ices)\n",
      "1\n",
      "2\n",
      "3\n"
     ]
    }
   ],
   "source": [
    "multigraph.display_vertex(G)"
   ]
  },
  {
   "cell_type": "code",
   "execution_count": 101,
   "metadata": {},
   "outputs": [],
   "source": [
    "multigraph.write_edges(G,'test_ver1.txt')"
   ]
  },
  {
   "cell_type": "code",
   "execution_count": 102,
   "metadata": {},
   "outputs": [
    {
     "name": "stdout",
     "output_type": "stream",
     "text": [
      "List of edge(s)\n",
      "12\n",
      "23\n",
      "22\n",
      "33\n"
     ]
    }
   ],
   "source": [
    "H=multigraph.read_edges(H,'test_ver1.txt')\n",
    "multigraph.display_edge(H)"
   ]
  },
  {
   "cell_type": "code",
   "execution_count": 84,
   "metadata": {},
   "outputs": [
    {
     "data": {
      "text/plain": [
       "array([[0, 1, 0],\n",
       "       [0, 1, 1],\n",
       "       [0, 0, 1]], dtype=uint32)"
      ]
     },
     "execution_count": 84,
     "metadata": {},
     "output_type": "execute_result"
    }
   ],
   "source": [
    "G.adjMatrix"
   ]
  },
  {
   "cell_type": "code",
   "execution_count": 88,
   "metadata": {},
   "outputs": [],
   "source": [
    "np.savetxt(\"test1.txt\", G.adjMatrix, fmt= '%5.0f')"
   ]
  },
  {
   "cell_type": "code",
   "execution_count": 92,
   "metadata": {},
   "outputs": [
    {
     "name": "stdout",
     "output_type": "stream",
     "text": [
      "[[0 1 0]\n",
      " [0 1 1]\n",
      " [0 0 1]]\n"
     ]
    }
   ],
   "source": [
    "y = np.loadtxt(\"test1.txt\")\n",
    "print(np.array(y.astype(int)))"
   ]
  },
  {
   "cell_type": "code",
   "execution_count": 95,
   "metadata": {},
   "outputs": [
    {
     "data": {
      "text/plain": [
       "array([[0, 1, 0],\n",
       "       [0, 1, 1],\n",
       "       [0, 0, 1]])"
      ]
     },
     "execution_count": 95,
     "metadata": {},
     "output_type": "execute_result"
    }
   ],
   "source": [
    "y.astype(int)"
   ]
  },
  {
   "cell_type": "code",
   "execution_count": 106,
   "metadata": {},
   "outputs": [
    {
     "ename": "AttributeError",
     "evalue": "'multigraph' object has no attribute 'write_adjMatrix'",
     "output_type": "error",
     "traceback": [
      "\u001b[1;31m---------------------------------------------------------------------------\u001b[0m",
      "\u001b[1;31mAttributeError\u001b[0m                            Traceback (most recent call last)",
      "\u001b[1;32m<ipython-input-106-e4365eb8dbc5>\u001b[0m in \u001b[0;36m<module>\u001b[1;34m\u001b[0m\n\u001b[1;32m----> 1\u001b[1;33m \u001b[0mG\u001b[0m\u001b[1;33m.\u001b[0m\u001b[0mwrite_adjMatrix\u001b[0m\u001b[1;33m(\u001b[0m\u001b[1;34m'test2.txt'\u001b[0m\u001b[1;33m)\u001b[0m\u001b[1;33m\u001b[0m\u001b[1;33m\u001b[0m\u001b[0m\n\u001b[0m",
      "\u001b[1;31mAttributeError\u001b[0m: 'multigraph' object has no attribute 'write_adjMatrix'"
     ]
    }
   ],
   "source": [
    "mp.write_adjMatrix(,'test2.txt')"
   ]
  },
  {
   "cell_type": "code",
   "execution_count": 108,
   "metadata": {},
   "outputs": [],
   "source": [
    "G.write_adjMatrix('test2.txt')"
   ]
  },
  {
   "cell_type": "code",
   "execution_count": 109,
   "metadata": {},
   "outputs": [],
   "source": [
    "H = multigraph(3,4)"
   ]
  },
  {
   "cell_type": "code",
   "execution_count": 110,
   "metadata": {},
   "outputs": [
    {
     "data": {
      "text/plain": [
       "<__main__.multigraph at 0x1802978a2e0>"
      ]
     },
     "execution_count": 110,
     "metadata": {},
     "output_type": "execute_result"
    }
   ],
   "source": [
    "H.read_adjMatrix('test2.txt')"
   ]
  },
  {
   "cell_type": "code",
   "execution_count": 114,
   "metadata": {},
   "outputs": [
    {
     "data": {
      "text/plain": [
       "array([[0, 1, 0],\n",
       "       [0, 1, 1],\n",
       "       [0, 0, 1]])"
      ]
     },
     "execution_count": 114,
     "metadata": {},
     "output_type": "execute_result"
    }
   ],
   "source": [
    "H.adjMatrix"
   ]
  },
  {
   "cell_type": "code",
   "execution_count": 137,
   "metadata": {},
   "outputs": [],
   "source": [
    "class direct_multigraph:\n",
    "    def __init__(self,nbnode,nbarc):\n",
    "        self.Nnode = nbnode;\n",
    "        self.Narc = nbarc;\n",
    "        self.Nodes = [];\n",
    "        self.Arcs = [];\n",
    "        self.adjMatrix = np.zeros((self.Nnode,self.Nnode),dtype=np.uint);\n",
    "        self.inInMatrix = np.zeros((self.Nnode,self.Narc),dtype=np.uint);\n",
    "        self.outInMatrix = np.zeros((self.Nnode,self.Narc),dtype=np.uint);\n",
    "    def set_node(self,node_list):\n",
    "        for NODE in node_list:\n",
    "            self.Nodes.append(NODE);\n",
    "        return self;\n",
    "    def set_arc(self,arc_list):\n",
    "        for ARC in arc_list:\n",
    "            self.Arcs.append(ARC);\n",
    "        return self;\n",
    "    def set_adjMatrix(self,i,j,x):\n",
    "        nr = self.adjMatrix.shape[0];\n",
    "        nc = self.adjMatrix.shape[1];\n",
    "        if (i>=nr or j>= nc):\n",
    "            print(\"Out of range!\");\n",
    "        else:\n",
    "            self.adjMatrix[i,j] = x;\n",
    "        return self;\n",
    "    def set_inInMatrix(self,i,j,x):\n",
    "        nr = self.inInMatrix.shape[0];\n",
    "        nc = self.inInMatrix.shape[1];\n",
    "        if (i>=nr or j>= nc):\n",
    "            print(\"Out of range!\");\n",
    "        else:\n",
    "            self.inInMatrix[i,j] = x;\n",
    "        return self;\n",
    "    def set_outInMatrix(self,i,j,x):\n",
    "        nr = self.outInMatrix.shape[0];\n",
    "        nc = self.outInMatrix.shape[1];\n",
    "        if (i>=nr or j>= nc):\n",
    "            print(\"Out of range!\");\n",
    "        else:\n",
    "            self.outInMatrix[i,j] = x;\n",
    "        return self;\n",
    "    def display_node(self):\n",
    "        print(\"List of node(s)\");\n",
    "        NODES = self.Nodes;\n",
    "        for k in range(0,len(NODES)):\n",
    "            print(NODES[k]);\n",
    "    def display_arc(self):\n",
    "        print(\"List of arc(s)\");\n",
    "        ARCS = self.Arcs;\n",
    "        for k in range(0,len(ARCS)):\n",
    "            print(ARCS[k]);\n",
    "    def display_adjMatrix(self):\n",
    "        print(\"Adjacency matrix\");\n",
    "        M = self.adjMatrix;\n",
    "        print(M);\n",
    "    def display_inInMatrix(self):\n",
    "        print(\"Incoming incidence matrix\");\n",
    "        M = self.inInMatrix;\n",
    "        print(M);\n",
    "    def display_outInMatrix(self):\n",
    "        print(\"Outgoing incidence matrix\");\n",
    "        M = self.outInMatrix;\n",
    "        print(M);\n",
    "##Here is your workspace. Adding your own code to use in chosen practical work\n",
    "##on directed multigraph.\n",
    "##Good luck!\n",
    "    def write_nodes(self,the_filename):\n",
    "        with open(the_filename, 'w') as file:\n",
    "            for n in self.Nodes:\n",
    "                file.write('%s\\n' % n)\n",
    "            file.close()\n",
    "    def read_nodes(self,the_filename):\n",
    "        with open(the_filename, 'r') as filehandle:\n",
    "            filecontents = filehandle.readlines()\n",
    "            for line in filecontents:\n",
    "                current_place = line[:-1]\n",
    "                self.Nodes.append(current_place)\n",
    "            filehandle.close()\n",
    "    def write_arcs(self,the_filename):\n",
    "        with open(the_filename, 'w') as file:\n",
    "            for v in self.Arcs:\n",
    "                file.write('%s\\n' % v)\n",
    "            file.close()\n",
    "    def read_arcs(self,the_filename):\n",
    "        with open(the_filename, 'r') as filehandle:\n",
    "            filecontents = filehandle.readlines()\n",
    "            for line in filecontents:\n",
    "                current_place = line[:-1]\n",
    "                self.Arcs.append(current_place)\n",
    "            filehandle.close()\n",
    "    def write_adjMatrix(self,filename):\n",
    "        np.savetxt(filename, self.adjMatrix, fmt= '%5.0f')\n",
    "    def read_adjMatrix(self,filename):\n",
    "        y = np.loadtxt(filename)\n",
    "        self.adjMatrix=y.astype(int)\n",
    "        \n",
    "    def write_inInMatrix(self,filename):\n",
    "        np.savetxt(filename, self.inInMatrix, fmt= '%5.0f')\n",
    "    def read_inInMatrix(self,filename):\n",
    "        y = np.loadtxt(filename)\n",
    "        self.inInMatrix=y.astype(int)\n",
    "        \n",
    "    def write_outInMatrix(self,filename):\n",
    "        np.savetxt(filename, self.outInMatrix, fmt= '%5.0f')\n",
    "    def read_outInMatrix(self,filename):\n",
    "        y = np.loadtxt(filename)\n",
    "        self.outInMatrix=y.astype(int)"
   ]
  },
  {
   "cell_type": "code",
   "execution_count": 128,
   "metadata": {},
   "outputs": [
    {
     "ename": "NameError",
     "evalue": "name 'Q' is not defined",
     "output_type": "error",
     "traceback": [
      "\u001b[1;31m---------------------------------------------------------------------------\u001b[0m",
      "\u001b[1;31mNameError\u001b[0m                                 Traceback (most recent call last)",
      "\u001b[1;32m<ipython-input-128-18bd701087da>\u001b[0m in \u001b[0;36m<module>\u001b[1;34m\u001b[0m\n\u001b[1;32m----> 1\u001b[1;33m \u001b[1;32mdel\u001b[0m \u001b[0mQ\u001b[0m\u001b[1;33m;\u001b[0m\u001b[1;33m\u001b[0m\u001b[1;33m\u001b[0m\u001b[0m\n\u001b[0m",
      "\u001b[1;31mNameError\u001b[0m: name 'Q' is not defined"
     ]
    }
   ],
   "source": [
    "del Q;"
   ]
  },
  {
   "cell_type": "code",
   "execution_count": 138,
   "metadata": {},
   "outputs": [
    {
     "name": "stdout",
     "output_type": "stream",
     "text": [
      "List of arc(s)\n",
      "(1,2)\n",
      "(2,1)\n",
      "(3,1)\n",
      "(3,2)\n",
      "List of node(s)\n",
      "1\n",
      "2\n",
      "3\n",
      "Adjacency matrix\n",
      "[[0 0 0]\n",
      " [0 0 0]\n",
      " [0 0 0]]\n",
      "Incoming incidence matrix\n",
      "[[0 0 0 0]\n",
      " [0 0 0 0]\n",
      " [0 0 0 0]]\n",
      "Outgoing incidence matrix\n",
      "[[0 0 0 0]\n",
      " [0 0 0 0]\n",
      " [0 0 0 0]]\n"
     ]
    }
   ],
   "source": [
    "Q = direct_multigraph(3,4);\n",
    "Q.set_node([\"1\",\"2\",\"3\"])\n",
    "Q.set_arc([\"(1,2)\",\"(2,1)\",\"(3,1)\",\"(3,2)\"])\n",
    "Q.display_arc()\n",
    "Q.display_node()\n",
    "Q.display_adjMatrix()\n",
    "Q.display_inInMatrix()\n",
    "Q.display_outInMatrix()"
   ]
  },
  {
   "cell_type": "code",
   "execution_count": 126,
   "metadata": {},
   "outputs": [
    {
     "name": "stdout",
     "output_type": "stream",
     "text": [
      "List of arc(s)\n",
      "(1,2)\n",
      "(2,1)\n",
      "(3,1)\n",
      "(3,2)\n",
      "List of node(s)\n",
      "1\n",
      "2\n",
      "3\n",
      "Adjacency matrix\n",
      "[[0 0 0]\n",
      " [0 0 0]\n",
      " [0 0 0]]\n",
      "Incoming incidence matrix\n",
      "[[0 0 0 0]\n",
      " [0 0 0 0]\n",
      " [0 0 0 0]]\n",
      "Outgoing incidence matrix\n",
      "[[0 0 0 0]\n",
      " [0 0 0 0]\n",
      " [0 0 0 0]]\n"
     ]
    }
   ],
   "source": [
    "\n",
    "Q = direct_multigraph(3,4);\n",
    "Q = direct_multigraph.set_node(Q,[\"1\",\"2\",\"3\"]);\n",
    "Q = direct_multigraph.set_arc(Q,[\"(1,2)\",\"(2,1)\",\"(3,1)\",\"(3,2)\"]);\n",
    "direct_multigraph.display_arc(Q);\n",
    "direct_multigraph.display_node(Q);\n",
    "direct_multigraph.display_adjMatrix(Q);\n",
    "direct_multigraph.display_inInMatrix(Q);\n",
    "direct_multigraph.display_outInMatrix(Q);"
   ]
  },
  {
   "cell_type": "code",
   "execution_count": 133,
   "metadata": {},
   "outputs": [],
   "source": [
    "Q.write_nodes('text4.txt')"
   ]
  },
  {
   "cell_type": "code",
   "execution_count": 140,
   "metadata": {},
   "outputs": [],
   "source": [
    "P = direct_multigraph(3,4);"
   ]
  },
  {
   "cell_type": "code",
   "execution_count": 135,
   "metadata": {},
   "outputs": [],
   "source": [
    "P.read_nodes('text4.txt')"
   ]
  },
  {
   "cell_type": "code",
   "execution_count": 136,
   "metadata": {},
   "outputs": [
    {
     "data": {
      "text/plain": [
       "['1', '2', '3']"
      ]
     },
     "execution_count": 136,
     "metadata": {},
     "output_type": "execute_result"
    }
   ],
   "source": [
    "P.Nodes"
   ]
  },
  {
   "cell_type": "code",
   "execution_count": 139,
   "metadata": {},
   "outputs": [],
   "source": [
    "Q.write_arcs('text5.txt')"
   ]
  },
  {
   "cell_type": "code",
   "execution_count": 141,
   "metadata": {},
   "outputs": [],
   "source": [
    "P.read_arcs('text5.txt')"
   ]
  },
  {
   "cell_type": "code",
   "execution_count": 142,
   "metadata": {},
   "outputs": [
    {
     "data": {
      "text/plain": [
       "['(1,2)', '(2,1)', '(3,1)', '(3,2)']"
      ]
     },
     "execution_count": 142,
     "metadata": {},
     "output_type": "execute_result"
    }
   ],
   "source": [
    "P.Arcs"
   ]
  },
  {
   "cell_type": "code",
   "execution_count": 143,
   "metadata": {},
   "outputs": [
    {
     "data": {
      "text/plain": [
       "['(1,2)', '(2,1)', '(3,1)', '(3,2)']"
      ]
     },
     "execution_count": 143,
     "metadata": {},
     "output_type": "execute_result"
    }
   ],
   "source": []
  },
  {
   "cell_type": "code",
   "execution_count": null,
   "metadata": {},
   "outputs": [],
   "source": [
    "G=dmg.(5,10)"
   ]
  },
  {
   "cell_type": "code",
   "execution_count": null,
   "metadata": {},
   "outputs": [],
   "source": [
    "def generate_in_out_InMatrix(self):\n",
    "    for i in range(len(self.Arcs)):\n",
    "        comma=int(self.Arcs[i].find(','))\n",
    "        a=int(self.Arcs[i][1:comma])\n",
    "        b=int(self.Arcs[i][comma+1:-1])\n",
    "        self.inInMatrix[b-1,i] +=1\n",
    "        self.outInMatrix[a-1,i] +=1"
   ]
  },
  {
   "cell_type": "code",
   "execution_count": null,
   "metadata": {},
   "outputs": [],
   "source": [
    "def generate_adjMatrix(G):\n",
    "    for Arc in G.Arcs:\n",
    "        comma=int(Arc.find(','))\n",
    "        a=int(Arc[1:comma])\n",
    "        b=int(Arc[comma+1:-1])\n",
    "        G.adjMatrix[a-1,b-1] +=1\n",
    "        "
   ]
  },
  {
   "cell_type": "code",
   "execution_count": null,
   "metadata": {},
   "outputs": [],
   "source": [
    "def generate_adjMatrix(self):\n",
    "    for Arc in self.Arcs:\n",
    "        comma=int(Arc.find(','))\n",
    "        a=int(Arc[1:comma])\n",
    "        b=int(Arc[comma+1:-1])\n",
    "        self.adjMatrix[a-1,b-1] +=1\n",
    "    return self"
   ]
  },
  {
   "cell_type": "code",
   "execution_count": null,
   "metadata": {},
   "outputs": [],
   "source": [
    "#v='5'\n",
    "Component=[]\n",
    "New=[]\n",
    "Component.append(v)\n",
    "New.append(v)\n",
    "while len(New)!=0:\n",
    "    Neighbors=[]\n",
    "    for n in New:\n",
    "        Neighbors=list(set(Neighbors+succ(n)))\n",
    "    New=list(set(Neighbors) - set(Component))\n",
    "    Component=list(set(Component+New))\n",
    "def succ(u):\n",
    "    k=0\n",
    "    result=[]\n",
    "    for i in self.outInMatrix[int(u)-1]:\n",
    "        if i==1:\n",
    "            comma=int(self.Arcs[k].find(','))\n",
    "            result.append(self.Arcs[k][comma+1:-1])\n",
    "        k+=1\n",
    "    return result\n",
    "def TRANSITIVECLOSURESUCC(self,v):\n",
    "    Component=[]\n",
    "    New=[]\n",
    "    Component.append(v)\n",
    "    New.append(v)\n",
    "    while len(New)!=0:\n",
    "        Neighbors=[]\n",
    "        for n in New:\n",
    "            Neighbors=list(set(Neighbors+succ(n)))\n",
    "        New=list(set(Neighbors) - set(Component))\n",
    "        Component=list(set(Component+New))\n",
    "    return Component"
   ]
  }
 ],
 "metadata": {
  "kernelspec": {
   "display_name": "Python 3",
   "language": "python",
   "name": "python3"
  },
  "language_info": {
   "codemirror_mode": {
    "name": "ipython",
    "version": 3
   },
   "file_extension": ".py",
   "mimetype": "text/x-python",
   "name": "python",
   "nbconvert_exporter": "python",
   "pygments_lexer": "ipython3",
   "version": "3.8.5"
  }
 },
 "nbformat": 4,
 "nbformat_minor": 5
}
