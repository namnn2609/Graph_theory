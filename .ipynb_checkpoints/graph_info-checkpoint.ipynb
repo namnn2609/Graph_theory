{
 "cells": [
  {
   "cell_type": "code",
   "execution_count": 1,
   "metadata": {},
   "outputs": [],
   "source": [
    "from Graph_tool import multigraph as mg;\n",
    "from Graph_tool import direct_multigraph as dmg;\n",
    "import numpy as np\n",
    "import sys\n",
    "import os\n",
    "import copy"
   ]
  },
  {
   "cell_type": "code",
   "execution_count": 35,
   "metadata": {},
   "outputs": [],
   "source": [
    "    def pred(sel,u):\n",
    "        k=0\n",
    "        result=[]\n",
    "        for i in sel.inInMatrix[sel.Nodes.index(u)]:\n",
    "            if i==1:\n",
    "                comma=int(sel.Arcs[k].find(','))\n",
    "                result.append(sel.Arcs[k][1:comma])\n",
    "            k+=1\n",
    "        return result"
   ]
  },
  {
   "cell_type": "code",
   "execution_count": null,
   "metadata": {},
   "outputs": [],
   "source": []
  },
  {
   "cell_type": "code",
   "execution_count": 26,
   "metadata": {},
   "outputs": [
    {
     "data": {
      "text/plain": [
       "array([0, 0, 0, 1, 1, 0, 0, 0, 0, 0, 0, 0, 0, 0, 0, 0, 0, 0, 0],\n",
       "      dtype=uint32)"
      ]
     },
     "execution_count": 26,
     "metadata": {},
     "output_type": "execute_result"
    }
   ],
   "source": [
    "G_13.outInMatrix[G_13.Nodes.index('2')]"
   ]
  },
  {
   "cell_type": "code",
   "execution_count": 38,
   "metadata": {},
   "outputs": [
    {
     "data": {
      "text/plain": [
       "['7', '3', '2', '9', '8', '4', '5', '6', '1']"
      ]
     },
     "execution_count": 38,
     "metadata": {},
     "output_type": "execute_result"
    }
   ],
   "source": [
    "G_13.TRANSITIVECLOSURESUCC('2')"
   ]
  },
  {
   "cell_type": "code",
   "execution_count": 44,
   "metadata": {},
   "outputs": [
    {
     "data": {
      "text/plain": [
       "['3', '2', '1', '4']"
      ]
     },
     "execution_count": 44,
     "metadata": {},
     "output_type": "execute_result"
    }
   ],
   "source": [
    "list(set(G_13.TRANSITIVECLOSURESUCC('2')).intersection(set(TRANSITIVECLOSUREPRED(G_13,'2'))))"
   ]
  },
  {
   "cell_type": "code",
   "execution_count": 47,
   "metadata": {},
   "outputs": [],
   "source": [
    "v=set()\n",
    "    "
   ]
  },
  {
   "cell_type": "code",
   "execution_count": 48,
   "metadata": {},
   "outputs": [
    {
     "data": {
      "text/plain": [
       "set"
      ]
     },
     "execution_count": 48,
     "metadata": {},
     "output_type": "execute_result"
    }
   ],
   "source": [
    "type(v)"
   ]
  },
  {
   "cell_type": "code",
   "execution_count": 41,
   "metadata": {},
   "outputs": [
    {
     "data": {
      "text/plain": [
       "['7', '9', '8', '5', '6']"
      ]
     },
     "execution_count": 41,
     "metadata": {},
     "output_type": "execute_result"
    }
   ],
   "source": [
    "list(set((G_13.TRANSITIVECLOSURESUCC('2'))) - set(TRANSITIVECLOSUREPRED(G_13,'2')))"
   ]
  },
  {
   "cell_type": "code",
   "execution_count": 36,
   "metadata": {},
   "outputs": [],
   "source": [
    "def TRANSITIVECLOSUREPRED(sel,v):\n",
    "    Component=[]\n",
    "    New=[]\n",
    "    Component.append(v)\n",
    "    New.append(v)\n",
    "    while len(New)!=0:\n",
    "        Neighbors=[]\n",
    "        for n in New:\n",
    "            Neighbors=list(set(Neighbors+pred(sel,n)))\n",
    "        New=list(set(Neighbors) - set(Component))\n",
    "        Component=list(set(Component+New))\n",
    "    return Component"
   ]
  },
  {
   "cell_type": "code",
   "execution_count": 37,
   "metadata": {},
   "outputs": [
    {
     "data": {
      "text/plain": [
       "['3', '2', '1', '4']"
      ]
     },
     "execution_count": 37,
     "metadata": {},
     "output_type": "execute_result"
    }
   ],
   "source": [
    "TRANSITIVECLOSUREPRED(G_13,'2')"
   ]
  },
  {
   "cell_type": "code",
   "execution_count": 31,
   "metadata": {},
   "outputs": [
    {
     "name": "stdout",
     "output_type": "stream",
     "text": [
      "1\n",
      "(1,2)\n",
      "2\n",
      "7\n",
      "(4,2)\n",
      "2\n"
     ]
    },
    {
     "data": {
      "text/plain": [
       "['1', '4']"
      ]
     },
     "execution_count": 31,
     "metadata": {},
     "output_type": "execute_result"
    }
   ],
   "source": [
    "pred(G_13,'2')"
   ]
  },
  {
   "cell_type": "code",
   "execution_count": 2,
   "metadata": {},
   "outputs": [
    {
     "data": {
      "text/plain": [
       "['.ipynb_checkpoints',\n",
       " 'Graph_1_1',\n",
       " 'Graph_1_12',\n",
       " 'Graph_1_13',\n",
       " 'Graph_1_18',\n",
       " 'Graph_1_29']"
      ]
     },
     "execution_count": 2,
     "metadata": {},
     "output_type": "execute_result"
    }
   ],
   "source": [
    "Graph_dir=r'C:\\Users\\Mr Nam\\Desktop\\TP\\Graph'\n",
    "os.listdir(Graph_dir)"
   ]
  },
  {
   "cell_type": "code",
   "execution_count": 3,
   "metadata": {},
   "outputs": [
    {
     "data": {
      "text/plain": [
       "['.ipynb_checkpoints',\n",
       " 'adjMatrix.txt',\n",
       " 'arcs.txt',\n",
       " 'inInMatrix.txt',\n",
       " 'nodes.txt',\n",
       " 'outInMatrix.txt']"
      ]
     },
     "execution_count": 3,
     "metadata": {},
     "output_type": "execute_result"
    }
   ],
   "source": [
    "Graph_1_1_dir=os.path.join(Graph_dir,'Graph_1_1')\n",
    "os.listdir(Graph_1_1_dir)"
   ]
  },
  {
   "cell_type": "code",
   "execution_count": 4,
   "metadata": {},
   "outputs": [],
   "source": [
    "G_11=dmg(5,10)"
   ]
  },
  {
   "cell_type": "code",
   "execution_count": 5,
   "metadata": {},
   "outputs": [],
   "source": [
    "G_11.read_nodes(os.path.join(Graph_1_1_dir,'nodes.txt'))\n",
    "G_11.read_arcs(os.path.join(Graph_1_1_dir,'arcs.txt'))\n",
    "G_11.read_adjMatrix(os.path.join(Graph_1_1_dir,'adjMatrix.txt'))\n",
    "G_11.read_inInMatrix(os.path.join(Graph_1_1_dir,'inInMatrix.txt'))\n",
    "G_11.read_outInMatrix(os.path.join(Graph_1_1_dir,'outInMatrix.txt'))"
   ]
  },
  {
   "cell_type": "code",
   "execution_count": 7,
   "metadata": {},
   "outputs": [
    {
     "name": "stdout",
     "output_type": "stream",
     "text": [
      "List of arc(s)\n",
      "(1,2)\n",
      "(2,2)\n",
      "(2,3)\n",
      "(2,5)\n",
      "(3,5)\n",
      "(4,4)\n",
      "(4,1)\n",
      "(4,5)\n",
      "(5,3)\n",
      "(5,4)\n"
     ]
    }
   ],
   "source": [
    "G_11.display_arc()"
   ]
  },
  {
   "cell_type": "code",
   "execution_count": 7,
   "metadata": {},
   "outputs": [
    {
     "data": {
      "text/plain": [
       "array([[0, 0, 0, 0, 0, 0, 1, 0, 0, 0],\n",
       "       [1, 1, 0, 0, 0, 0, 0, 0, 0, 0],\n",
       "       [0, 0, 1, 0, 0, 0, 0, 0, 1, 0],\n",
       "       [0, 0, 0, 0, 0, 1, 0, 0, 0, 1],\n",
       "       [0, 0, 0, 1, 1, 0, 0, 1, 0, 0]], dtype=uint32)"
      ]
     },
     "execution_count": 7,
     "metadata": {},
     "output_type": "execute_result"
    }
   ],
   "source": [
    "G.outInMatrix"
   ]
  },
  {
   "cell_type": "code",
   "execution_count": 8,
   "metadata": {},
   "outputs": [
    {
     "data": {
      "text/plain": [
       "array([[1, 0, 0, 0, 0, 0, 0, 0, 0, 0],\n",
       "       [0, 1, 1, 1, 0, 0, 0, 0, 0, 0],\n",
       "       [0, 0, 0, 0, 1, 0, 0, 0, 0, 0],\n",
       "       [0, 0, 0, 0, 0, 1, 1, 1, 0, 0],\n",
       "       [0, 0, 0, 0, 0, 0, 0, 0, 1, 1]], dtype=uint32)"
      ]
     },
     "execution_count": 8,
     "metadata": {},
     "output_type": "execute_result"
    }
   ],
   "source": [
    "G.inInMatrix"
   ]
  },
  {
   "cell_type": "code",
   "execution_count": 11,
   "metadata": {},
   "outputs": [
    {
     "data": {
      "text/plain": [
       "3"
      ]
     },
     "execution_count": 11,
     "metadata": {},
     "output_type": "execute_result"
    }
   ],
   "source": [
    "G.inInMatrix[G.Nodes.index('5')].sum()"
   ]
  },
  {
   "cell_type": "code",
   "execution_count": 7,
   "metadata": {},
   "outputs": [
    {
     "data": {
      "text/plain": [
       "3"
      ]
     },
     "execution_count": 7,
     "metadata": {},
     "output_type": "execute_result"
    }
   ],
   "source": [
    "deg_in(G,'5')"
   ]
  },
  {
   "cell_type": "code",
   "execution_count": 5,
   "metadata": {},
   "outputs": [],
   "source": [
    "def deg_in(G,v):\n",
    "    index=G.Nodes.index(v)\n",
    "    result= G.inInMatrix[G.Nodes.index(v)].sum()\n",
    "    return result"
   ]
  },
  {
   "cell_type": "markdown",
   "metadata": {},
   "source": [
    "# Graph 1.1 (trang 2)"
   ]
  },
  {
   "cell_type": "code",
   "execution_count": 2,
   "metadata": {},
   "outputs": [],
   "source": [
    "G=dmg(5,10)\n",
    "G.set_node([\"1\",\"2\",\"3\",\"4\",\"5\"])\n",
    "G.set_arc([\"(1,2)\",\"(2,2)\",\"(2,3)\",\"(2,5)\",\"(3,5)\",\"(4,4)\",\"(4,1)\",\"(4,5)\",\"(5,3)\",\"(5,4)\"]);"
   ]
  },
  {
   "cell_type": "code",
   "execution_count": 35,
   "metadata": {},
   "outputs": [],
   "source": [
    "\n",
    "G.write_nodes(os.path.join(Graph_1_1_dir,'nodes.txt'))\n",
    "G.write_arcs(os.path.join(Graph_1_1_dir,'arcs.txt'))"
   ]
  },
  {
   "cell_type": "code",
   "execution_count": 3,
   "metadata": {},
   "outputs": [],
   "source": [
    "G.generate_adjMatrix()\n",
    "G.generate_in_out_InMatrix()"
   ]
  },
  {
   "cell_type": "code",
   "execution_count": 5,
   "metadata": {},
   "outputs": [
    {
     "data": {
      "text/plain": [
       "array([[0, 0, 0, 0, 0, 0, 1, 0, 0, 0],\n",
       "       [1, 1, 0, 0, 0, 0, 0, 0, 0, 0],\n",
       "       [0, 0, 1, 0, 0, 0, 0, 0, 1, 0],\n",
       "       [0, 0, 0, 0, 0, 1, 0, 0, 0, 1],\n",
       "       [0, 0, 0, 1, 1, 0, 0, 1, 0, 0]], dtype=uint32)"
      ]
     },
     "execution_count": 5,
     "metadata": {},
     "output_type": "execute_result"
    }
   ],
   "source": [
    "G.inInMatrix"
   ]
  },
  {
   "cell_type": "code",
   "execution_count": 6,
   "metadata": {},
   "outputs": [
    {
     "data": {
      "text/plain": [
       "array([[1, 0, 0, 0, 0, 0, 0, 0, 0, 0],\n",
       "       [0, 1, 1, 1, 0, 0, 0, 0, 0, 0],\n",
       "       [0, 0, 0, 0, 1, 0, 0, 0, 0, 0],\n",
       "       [0, 0, 0, 0, 0, 1, 1, 1, 0, 0],\n",
       "       [0, 0, 0, 0, 0, 0, 0, 0, 1, 1]], dtype=uint32)"
      ]
     },
     "execution_count": 6,
     "metadata": {},
     "output_type": "execute_result"
    }
   ],
   "source": [
    "G.outInMatrix"
   ]
  },
  {
   "cell_type": "code",
   "execution_count": 7,
   "metadata": {},
   "outputs": [
    {
     "data": {
      "text/plain": [
       "array([[0, 1, 0, 0, 0],\n",
       "       [0, 1, 1, 0, 1],\n",
       "       [0, 0, 0, 0, 1],\n",
       "       [1, 0, 0, 1, 1],\n",
       "       [0, 0, 1, 1, 0]], dtype=uint32)"
      ]
     },
     "execution_count": 7,
     "metadata": {},
     "output_type": "execute_result"
    }
   ],
   "source": [
    "G.adjMatrix"
   ]
  },
  {
   "cell_type": "code",
   "execution_count": 32,
   "metadata": {},
   "outputs": [],
   "source": [
    "G.write_adjMatrix(os.path.join(Graph_1_1_dir,'adjMatrix.txt'))\n",
    "G.write_inInMatrix(os.path.join(Graph_1_1_dir,'inInMatrix.txt'))\n",
    "G.write_outInMatrix(os.path.join(Graph_1_1_dir,'outInMatrix.txt'))"
   ]
  },
  {
   "cell_type": "markdown",
   "metadata": {},
   "source": [
    "# Graph 1.12 (trang 11 sách tiếng việt)"
   ]
  },
  {
   "cell_type": "code",
   "execution_count": 12,
   "metadata": {},
   "outputs": [],
   "source": [
    "Graph_1_12_dir=os.path.join(Graph_dir,'Graph_1_12')\n",
    "if not os.path.isdir(Graph_1_12_dir):\n",
    "    os.makedirs(os.path.join(Graph_1_12_dir))"
   ]
  },
  {
   "cell_type": "code",
   "execution_count": 6,
   "metadata": {},
   "outputs": [],
   "source": [
    "G_12=dmg(6,8)\n",
    "G_12.set_node([\"1\",\"2\",\"3\",\"4\",\"5\",\"6\"])\n",
    "G_12.set_arc([\"(1,2)\",\"(2,3)\",\"(2,4)\",\"(3,1)\",\"(4,2)\",\"(4,5)\",\"(5,6)\",\"(6,4)\"]);"
   ]
  },
  {
   "cell_type": "code",
   "execution_count": 7,
   "metadata": {},
   "outputs": [],
   "source": [
    "G_12.generate_adjMatrix()\n",
    "G_12.generate_in_out_InMatrix()"
   ]
  },
  {
   "cell_type": "code",
   "execution_count": 10,
   "metadata": {},
   "outputs": [
    {
     "data": {
      "text/plain": [
       "array([[0, 1, 0, 0, 0, 0],\n",
       "       [0, 0, 1, 1, 0, 0],\n",
       "       [1, 0, 0, 0, 0, 0],\n",
       "       [0, 1, 0, 0, 1, 0],\n",
       "       [0, 0, 0, 0, 0, 1],\n",
       "       [0, 0, 0, 1, 0, 0]], dtype=uint32)"
      ]
     },
     "execution_count": 10,
     "metadata": {},
     "output_type": "execute_result"
    }
   ],
   "source": [
    "G_12.adjMatrix"
   ]
  },
  {
   "cell_type": "code",
   "execution_count": 11,
   "metadata": {},
   "outputs": [
    {
     "data": {
      "text/plain": [
       "array([[0, 0, 0, 1, 0, 0, 0, 0],\n",
       "       [1, 0, 0, 0, 1, 0, 0, 0],\n",
       "       [0, 1, 0, 0, 0, 0, 0, 0],\n",
       "       [0, 0, 1, 0, 0, 0, 0, 1],\n",
       "       [0, 0, 0, 0, 0, 1, 0, 0],\n",
       "       [0, 0, 0, 0, 0, 0, 1, 0]], dtype=uint32)"
      ]
     },
     "execution_count": 11,
     "metadata": {},
     "output_type": "execute_result"
    }
   ],
   "source": [
    "G_12.inInMatrix"
   ]
  },
  {
   "cell_type": "code",
   "execution_count": 12,
   "metadata": {},
   "outputs": [
    {
     "data": {
      "text/plain": [
       "array([[1, 0, 0, 0, 0, 0, 0, 0],\n",
       "       [0, 1, 1, 0, 0, 0, 0, 0],\n",
       "       [0, 0, 0, 1, 0, 0, 0, 0],\n",
       "       [0, 0, 0, 0, 1, 1, 0, 0],\n",
       "       [0, 0, 0, 0, 0, 0, 1, 0],\n",
       "       [0, 0, 0, 0, 0, 0, 0, 1]], dtype=uint32)"
      ]
     },
     "execution_count": 12,
     "metadata": {},
     "output_type": "execute_result"
    }
   ],
   "source": [
    "G_12.outInMatrix"
   ]
  },
  {
   "cell_type": "code",
   "execution_count": 29,
   "metadata": {},
   "outputs": [
    {
     "data": {
      "text/plain": [
       "['2', '6', '3', '1', '4', '5']"
      ]
     },
     "execution_count": 29,
     "metadata": {},
     "output_type": "execute_result"
    }
   ],
   "source": [
    "G_12.TRANSITIVECLOSURESUCC('4')"
   ]
  },
  {
   "cell_type": "code",
   "execution_count": 30,
   "metadata": {},
   "outputs": [],
   "source": [
    "G_12.write_arcs(os.path.join(Graph_1_12_dir,'arcs.txt'))\n",
    "G_12.write_nodes(os.path.join(Graph_1_12_dir,'nodes.txt'))\n",
    "G_12.write_adjMatrix(os.path.join(Graph_1_12_dir,'adjMatrix.txt'))\n",
    "G_12.write_inInMatrix(os.path.join(Graph_1_12_dir,'inInMatrix.txt'))\n",
    "G_12.write_outInMatrix(os.path.join(Graph_1_12_dir,'outInMatrix.txt'))"
   ]
  },
  {
   "cell_type": "markdown",
   "metadata": {},
   "source": [
    "# Graph 1.13 (trang 12 sách tiếng việt)"
   ]
  },
  {
   "cell_type": "code",
   "execution_count": 14,
   "metadata": {},
   "outputs": [],
   "source": [
    "Graph_1_13_dir=os.path.join(Graph_dir,'Graph_1_13')\n",
    "if not os.path.isdir(Graph_1_13_dir):\n",
    "    os.makedirs(os.path.join(Graph_1_13_dir))"
   ]
  },
  {
   "cell_type": "code",
   "execution_count": 14,
   "metadata": {},
   "outputs": [],
   "source": [
    "G_13=dmg(9,19)\n",
    "G_13.set_node([\"1\",\"2\",\"3\",\"4\",\"5\",\"6\",\"7\",\"8\",\"9\"])\n",
    "G_13.set_arc([\"(1,1)\",\"(1,2)\",\"(1,3)\",\"(2,1)\",\"(2,5)\",\"(3,4)\",\"(4,4)\",\"(4,2)\",\"(4,5)\",\"(5,6)\",\"(5,8)\",\"(6,6)\",\"(6,7)\",\"(6,8)\",\"(7,6)\",\"(7,9)\",\"(8,9)\",\"(9,8)\",\"(9,9)\"]);"
   ]
  },
  {
   "cell_type": "code",
   "execution_count": 15,
   "metadata": {},
   "outputs": [],
   "source": [
    "G_13.generate_adjMatrix()"
   ]
  },
  {
   "cell_type": "code",
   "execution_count": 17,
   "metadata": {},
   "outputs": [
    {
     "data": {
      "text/plain": [
       "array([[1, 1, 1, 0, 0, 0, 0, 0, 0],\n",
       "       [1, 0, 0, 0, 1, 0, 0, 0, 0],\n",
       "       [0, 0, 0, 1, 0, 0, 0, 0, 0],\n",
       "       [0, 1, 0, 1, 1, 0, 0, 0, 0],\n",
       "       [0, 0, 0, 0, 0, 1, 0, 1, 0],\n",
       "       [0, 0, 0, 0, 0, 1, 1, 1, 0],\n",
       "       [0, 0, 0, 0, 0, 1, 0, 0, 1],\n",
       "       [0, 0, 0, 0, 0, 0, 0, 0, 1],\n",
       "       [0, 0, 0, 0, 0, 0, 0, 1, 1]], dtype=uint32)"
      ]
     },
     "execution_count": 17,
     "metadata": {},
     "output_type": "execute_result"
    }
   ],
   "source": [
    "G_13.adjMatrix"
   ]
  },
  {
   "cell_type": "code",
   "execution_count": 16,
   "metadata": {},
   "outputs": [],
   "source": [
    "G_13.generate_in_out_InMatrix()"
   ]
  },
  {
   "cell_type": "code",
   "execution_count": 19,
   "metadata": {},
   "outputs": [
    {
     "data": {
      "text/plain": [
       "array([[1, 1, 1, 0, 0, 0, 0, 0, 0, 0, 0, 0, 0, 0, 0, 0, 0, 0, 0],\n",
       "       [0, 0, 0, 1, 1, 0, 0, 0, 0, 0, 0, 0, 0, 0, 0, 0, 0, 0, 0],\n",
       "       [0, 0, 0, 0, 0, 1, 0, 0, 0, 0, 0, 0, 0, 0, 0, 0, 0, 0, 0],\n",
       "       [0, 0, 0, 0, 0, 0, 1, 1, 1, 0, 0, 0, 0, 0, 0, 0, 0, 0, 0],\n",
       "       [0, 0, 0, 0, 0, 0, 0, 0, 0, 1, 1, 0, 0, 0, 0, 0, 0, 0, 0],\n",
       "       [0, 0, 0, 0, 0, 0, 0, 0, 0, 0, 0, 1, 1, 1, 0, 0, 0, 0, 0],\n",
       "       [0, 0, 0, 0, 0, 0, 0, 0, 0, 0, 0, 0, 0, 0, 1, 1, 0, 0, 0],\n",
       "       [0, 0, 0, 0, 0, 0, 0, 0, 0, 0, 0, 0, 0, 0, 0, 0, 1, 0, 0],\n",
       "       [0, 0, 0, 0, 0, 0, 0, 0, 0, 0, 0, 0, 0, 0, 0, 0, 0, 1, 1]],\n",
       "      dtype=uint32)"
      ]
     },
     "execution_count": 19,
     "metadata": {},
     "output_type": "execute_result"
    }
   ],
   "source": [
    "G_13.outInMatrix"
   ]
  },
  {
   "cell_type": "code",
   "execution_count": 20,
   "metadata": {},
   "outputs": [
    {
     "data": {
      "text/plain": [
       "array([[1, 0, 0, 1, 0, 0, 0, 0, 0, 0, 0, 0, 0, 0, 0, 0, 0, 0, 0],\n",
       "       [0, 1, 0, 0, 0, 0, 0, 1, 0, 0, 0, 0, 0, 0, 0, 0, 0, 0, 0],\n",
       "       [0, 0, 1, 0, 0, 0, 0, 0, 0, 0, 0, 0, 0, 0, 0, 0, 0, 0, 0],\n",
       "       [0, 0, 0, 0, 0, 1, 1, 0, 0, 0, 0, 0, 0, 0, 0, 0, 0, 0, 0],\n",
       "       [0, 0, 0, 0, 1, 0, 0, 0, 1, 0, 0, 0, 0, 0, 0, 0, 0, 0, 0],\n",
       "       [0, 0, 0, 0, 0, 0, 0, 0, 0, 1, 0, 1, 0, 0, 1, 0, 0, 0, 0],\n",
       "       [0, 0, 0, 0, 0, 0, 0, 0, 0, 0, 0, 0, 1, 0, 0, 0, 0, 0, 0],\n",
       "       [0, 0, 0, 0, 0, 0, 0, 0, 0, 0, 1, 0, 0, 1, 0, 0, 0, 1, 0],\n",
       "       [0, 0, 0, 0, 0, 0, 0, 0, 0, 0, 0, 0, 0, 0, 0, 1, 1, 0, 1]],\n",
       "      dtype=uint32)"
      ]
     },
     "execution_count": 20,
     "metadata": {},
     "output_type": "execute_result"
    }
   ],
   "source": [
    "G_13.inInMatrix"
   ]
  },
  {
   "cell_type": "code",
   "execution_count": 21,
   "metadata": {},
   "outputs": [],
   "source": [
    "G_13.write_arcs(os.path.join(Graph_1_13_dir,'arcs.txt'))\n",
    "G_13.write_nodes(os.path.join(Graph_1_13_dir,'nodes.txt'))\n",
    "G_13.write_adjMatrix(os.path.join(Graph_1_13_dir,'adjMatrix.txt'))\n",
    "G_13.write_inInMatrix(os.path.join(Graph_1_13_dir,'inInMatrix.txt'))\n",
    "G_13.write_outInMatrix(os.path.join(Graph_1_13_dir,'outInMatrix.txt'))"
   ]
  },
  {
   "cell_type": "code",
   "execution_count": 22,
   "metadata": {},
   "outputs": [
    {
     "data": {
      "text/plain": [
       "['7', '5', '8', '6', '9']"
      ]
     },
     "execution_count": 22,
     "metadata": {},
     "output_type": "execute_result"
    }
   ],
   "source": [
    "G_13.TRANSITIVECLOSURESUCC('5')"
   ]
  },
  {
   "cell_type": "markdown",
   "metadata": {},
   "source": [
    "# Graph 1.18 trang 21 sách tiếng việt"
   ]
  },
  {
   "cell_type": "code",
   "execution_count": 25,
   "metadata": {},
   "outputs": [],
   "source": [
    "Graph_1_18_dir=os.path.join(Graph_dir,'Graph_1_18')\n",
    "if not os.path.isdir(Graph_1_18_dir):\n",
    "    os.makedirs(os.path.join(Graph_1_18_dir))"
   ]
  },
  {
   "cell_type": "code",
   "execution_count": 2,
   "metadata": {},
   "outputs": [],
   "source": [
    "G_18=dmg(6,9)\n",
    "G_18.set_node([\"0\",\"1\",\"2\",\"3\",\"4\",\"5\"])\n",
    "G_18.set_arc([\"(0,2)\",\"(0,4)\",\"(1,0)\",\"(2,3)\",\"(2,4)\",\"(3,2)\",\"(3,5)\",\"(4,5)\",\"(5,4)\"]);"
   ]
  },
  {
   "cell_type": "code",
   "execution_count": 3,
   "metadata": {},
   "outputs": [],
   "source": [
    "G_18.generate_adjMatrix()\n",
    "G_18.generate_in_out_InMatrix()"
   ]
  },
  {
   "cell_type": "code",
   "execution_count": 28,
   "metadata": {},
   "outputs": [
    {
     "data": {
      "text/plain": [
       "array([[0, 0, 0, 0, 0, 1],\n",
       "       [0, 0, 1, 1, 0, 0],\n",
       "       [0, 1, 0, 0, 1, 0],\n",
       "       [0, 0, 0, 0, 1, 0],\n",
       "       [0, 0, 0, 1, 0, 0],\n",
       "       [0, 1, 0, 1, 0, 0]], dtype=uint32)"
      ]
     },
     "execution_count": 28,
     "metadata": {},
     "output_type": "execute_result"
    }
   ],
   "source": [
    "G_18.adjMatrix"
   ]
  },
  {
   "cell_type": "code",
   "execution_count": 29,
   "metadata": {},
   "outputs": [
    {
     "data": {
      "text/plain": [
       "array([[0, 0, 0, 0, 0, 0, 0, 0, 0],\n",
       "       [1, 0, 0, 0, 0, 1, 0, 0, 0],\n",
       "       [0, 0, 0, 1, 0, 0, 0, 0, 0],\n",
       "       [0, 1, 0, 0, 1, 0, 0, 0, 1],\n",
       "       [0, 0, 0, 0, 0, 0, 1, 1, 0],\n",
       "       [0, 0, 1, 0, 0, 0, 0, 0, 0]], dtype=uint32)"
      ]
     },
     "execution_count": 29,
     "metadata": {},
     "output_type": "execute_result"
    }
   ],
   "source": [
    "G_18.inInMatrix"
   ]
  },
  {
   "cell_type": "code",
   "execution_count": 30,
   "metadata": {},
   "outputs": [
    {
     "data": {
      "text/plain": [
       "array([[0, 0, 1, 0, 0, 0, 0, 0, 0],\n",
       "       [0, 0, 0, 1, 1, 0, 0, 0, 0],\n",
       "       [0, 0, 0, 0, 0, 1, 1, 0, 0],\n",
       "       [0, 0, 0, 0, 0, 0, 0, 1, 0],\n",
       "       [0, 0, 0, 0, 0, 0, 0, 0, 1],\n",
       "       [1, 1, 0, 0, 0, 0, 0, 0, 0]], dtype=uint32)"
      ]
     },
     "execution_count": 30,
     "metadata": {},
     "output_type": "execute_result"
    }
   ],
   "source": [
    "G_18.outInMatrix"
   ]
  },
  {
   "cell_type": "code",
   "execution_count": 31,
   "metadata": {},
   "outputs": [
    {
     "data": {
      "text/plain": [
       "[[0, 0, 1, 0, 5, 0],\n",
       " [3, 0, 0, 0, 0, 0],\n",
       " [0, 0, 0, 2, 2, 0],\n",
       " [0, 0, 3, 0, 0, 1],\n",
       " [0, 0, 0, 0, 0, 2],\n",
       " [0, 0, 0, 0, 1, 0]]"
      ]
     },
     "execution_count": 31,
     "metadata": {},
     "output_type": "execute_result"
    }
   ],
   "source": [
    "G_18.Weight=[\n",
    "    [0, 0,  1,  0,  5,  0],\n",
    "    [3, 0,  0,  0,  0,  0],\n",
    "    [0, 0,  0,  2,  2,  0],\n",
    "    [0, 0,  3,  0,  0,  1],\n",
    "    [0, 0,  0,  0,  0,  2],\n",
    "    [0, 0,  0,  0,  1,  0]]\n",
    "G_18.write_Weight(os.path.join(Graph_1_18_dir,'WeightMatrix.txt'))\n",
    "G_18.Weight"
   ]
  },
  {
   "cell_type": "code",
   "execution_count": 47,
   "metadata": {},
   "outputs": [],
   "source": [
    "G_18.write_arcs(os.path.join(Graph_1_18_dir,'arcs.txt'))\n",
    "G_18.write_nodes(os.path.join(Graph_1_18_dir,'nodes.txt'))\n",
    "G_18.write_adjMatrix(os.path.join(Graph_1_18_dir,'adjMatrix.txt'))\n",
    "G_18.write_inInMatrix(os.path.join(Graph_1_18_dir,'inInMatrix.txt'))\n",
    "G_18.write_outInMatrix(os.path.join(Graph_1_18_dir,'outInMatrix.txt'))"
   ]
  },
  {
   "cell_type": "markdown",
   "metadata": {},
   "source": [
    "# Graph 1.29 trang 41 sách tiếng anh (rig16)"
   ]
  },
  {
   "cell_type": "code",
   "execution_count": 45,
   "metadata": {},
   "outputs": [],
   "source": [
    "Graph_1_29_dir=os.path.join(Graph_dir,'Graph_1_29')\n",
    "if not os.path.isdir(Graph_1_29_dir):\n",
    "    os.makedirs(os.path.join(Graph_1_29_dir))"
   ]
  },
  {
   "cell_type": "code",
   "execution_count": 46,
   "metadata": {},
   "outputs": [],
   "source": [
    "G_29=dmg(6,6)\n",
    "G_29.set_node([\"1\",\"2\",\"3\",\"4\",\"5\",\"6\"])\n",
    "G_29.set_arc([\"(1,3)\",\"(2,3)\",\"(3,4)\",\"(4,5)\",\"(5,6)\",\"(6,4)\"]);"
   ]
  },
  {
   "cell_type": "code",
   "execution_count": 86,
   "metadata": {},
   "outputs": [],
   "source": [
    "G_29.generate_adjMatrix()\n",
    "G_29.generate_in_out_InMatrix()"
   ]
  },
  {
   "cell_type": "code",
   "execution_count": 50,
   "metadata": {},
   "outputs": [],
   "source": [
    "G_29.write_arcs(os.path.join(Graph_1_29_dir,'arcs.txt'))\n",
    "G_29.write_nodes(os.path.join(Graph_1_29_dir,'nodes.txt'))\n",
    "G_29.write_adjMatrix(os.path.join(Graph_1_29_dir,'adjMatrix.txt'))\n",
    "G_29.write_inInMatrix(os.path.join(Graph_1_29_dir,'inInMatrix.txt'))\n",
    "G_29.write_outInMatrix(os.path.join(Graph_1_29_dir,'outInMatrix.txt'))"
   ]
  },
  {
   "cell_type": "code",
   "execution_count": 93,
   "metadata": {},
   "outputs": [],
   "source": [
    "def ROYWARSHALL(adjMatrix):\n",
    "    m=copy.deepcopy(adjMatrix)\n",
    "    for i in range(len(m)):\n",
    "        m[i,i]=1\n",
    "    print(m)\n",
    "    for k in range(len(m)):\n",
    "        for i in range(len(m)):\n",
    "            for j in range(len(m)):\n",
    "                m[i][j] = m[i][j] or( m[i][k] and m[k][j]);  \n",
    "    return m"
   ]
  },
  {
   "cell_type": "code",
   "execution_count": 92,
   "metadata": {},
   "outputs": [
    {
     "data": {
      "text/plain": [
       "array([[0, 0, 1, 0, 0, 0],\n",
       "       [0, 0, 1, 0, 0, 0],\n",
       "       [0, 0, 0, 1, 0, 0],\n",
       "       [0, 0, 0, 0, 1, 0],\n",
       "       [0, 0, 0, 0, 0, 1],\n",
       "       [0, 0, 0, 1, 0, 0]], dtype=uint32)"
      ]
     },
     "execution_count": 92,
     "metadata": {},
     "output_type": "execute_result"
    }
   ],
   "source": [
    "G_29.adjMatrix\n"
   ]
  },
  {
   "cell_type": "code",
   "execution_count": 94,
   "metadata": {},
   "outputs": [
    {
     "name": "stdout",
     "output_type": "stream",
     "text": [
      "[[1 0 1 0 0 0]\n",
      " [0 1 1 0 0 0]\n",
      " [0 0 1 1 0 0]\n",
      " [0 0 0 1 1 0]\n",
      " [0 0 0 0 1 1]\n",
      " [0 0 0 1 0 1]]\n"
     ]
    },
    {
     "data": {
      "text/plain": [
       "array([[1, 0, 1, 1, 1, 1],\n",
       "       [0, 1, 1, 1, 1, 1],\n",
       "       [0, 0, 1, 1, 1, 1],\n",
       "       [0, 0, 0, 1, 1, 1],\n",
       "       [0, 0, 0, 1, 1, 1],\n",
       "       [0, 0, 0, 1, 1, 1]], dtype=uint32)"
      ]
     },
     "execution_count": 94,
     "metadata": {},
     "output_type": "execute_result"
    }
   ],
   "source": [
    "ROYWARSHALL(G_29.adjMatrix)"
   ]
  },
  {
   "cell_type": "code",
   "execution_count": 13,
   "metadata": {},
   "outputs": [],
   "source": [
    "def min_distance(dist, sptSet):\n",
    "    min_value = sys.maxsize \n",
    "    min_index=-1\n",
    "    for v in range(len(dist)): \n",
    "        if dist[v] < min_value and sptSet[v] == False: \n",
    "            min_value = dist[v] \n",
    "            min_index = v \n",
    "    return min_index \n",
    "def printSolution( dist,number_value): \n",
    "    print(\"Vertex \\tDistance from Source\")\n",
    "    for node in range(number_value): \n",
    "        print (node, \"\\t\", dist[node])\n",
    "def dijkstra(graph,src): \n",
    "\n",
    "    dist = [sys.maxsize] * len(graph)\n",
    "    dist[src] = 0\n",
    "    sptSet = [False] * len(graph)\n",
    "\n",
    "    for cout in range(len(graph)): \n",
    "\n",
    "        u = min_distance(dist, sptSet) \n",
    "        \n",
    "        sptSet[u] = True\n",
    "        \n",
    "        for v in range(len(graph)): \n",
    "            if graph[u][v] > 0 and sptSet[v] == False and dist[v] > dist[u] + graph[u][v]:\n",
    "                    dist[v] = dist[u] + graph[u][v]\n",
    "    printSolution(dist,len(graph))"
   ]
  },
  {
   "cell_type": "code",
   "execution_count": 26,
   "metadata": {},
   "outputs": [],
   "source": [
    "def SPANNINGTREE(Graph):\n",
    "    def succ(u):\n",
    "        k=0\n",
    "        result=[]\n",
    "        for i in Graph.adjMatrix[Graph.Vertices.index(u)]:\n",
    "            if i==1:\n",
    "                result.append(Graph.Vertices[k])\n",
    "            k+=1\n",
    "        return result\n",
    "    Component=[]\n",
    "    New=[]\n",
    "    Edges=[]\n",
    "    Component.append(Graph.Vertices[0])\n",
    "    New.append(Graph.Vertices[0])\n",
    "\n",
    "    while len(New)!=0:\n",
    "\n",
    "        Neighbors=[]\n",
    "        for n in New:\n",
    "            Neighbors=list(set(Neighbors+succ(n)))\n",
    "            New=list(set(Neighbors) - set(Component))\n",
    "        for v in New:\n",
    "            for i in range(len(Graph.Edges)):\n",
    "                comma=int(Graph.Edges[i].find(','))\n",
    "                a=Graph.Edges[i][1:comma]\n",
    "                b=Graph.Edges[i][comma+1:-1]\n",
    "                if (a in Component):\n",
    "                    if Graph.Edges[i] not in Edges:\n",
    "                        Edges.append(Graph.Edges[i])\n",
    "                    Component=list(set(Component+New))\n",
    "\n",
    "    Component.sort()\n",
    "    if Component != Graph.Vertices:\n",
    "        print('Component',Component)\n",
    "        print('Graph.Nodes',Graph.Vertices)\n",
    "        return('Error: G is not connected')\n",
    "\n",
    "    else:\n",
    "        return(Component,Edges)\n"
   ]
  },
  {
   "cell_type": "code",
   "execution_count": 55,
   "metadata": {},
   "outputs": [
    {
     "data": {
      "text/plain": [
       "['1', '2', '3', '4', '5', '6', '7', '8', '9']"
      ]
     },
     "execution_count": 55,
     "metadata": {},
     "output_type": "execute_result"
    }
   ],
   "source": [
    "Component.sort()\n",
    "Component"
   ]
  },
  {
   "cell_type": "code",
   "execution_count": 27,
   "metadata": {},
   "outputs": [
    {
     "data": {
      "text/plain": [
       "(['0', '1', '2', '3', '4', '5'],\n",
       " ['(0,2)', '(0,4)', '(1,0)', '(2,3)', '(2,4)', '(4,5)', '(3,5)'])"
      ]
     },
     "execution_count": 27,
     "metadata": {},
     "output_type": "execute_result"
    }
   ],
   "source": [
    "SPANNINGTREE(G_19)"
   ]
  },
  {
   "cell_type": "code",
   "execution_count": 58,
   "metadata": {},
   "outputs": [
    {
     "data": {
      "text/plain": [
       "['0', '1', '2', '3', '4', '5']"
      ]
     },
     "execution_count": 58,
     "metadata": {},
     "output_type": "execute_result"
    }
   ],
   "source": [
    "G_18.Nodes"
   ]
  },
  {
   "cell_type": "code",
   "execution_count": 63,
   "metadata": {},
   "outputs": [
    {
     "data": {
      "text/plain": [
       "(['0', '1', '2', '3', '4', '5'],\n",
       " ['(1,0)',\n",
       "  '(0,2)',\n",
       "  '(0,4)',\n",
       "  '(2,3)',\n",
       "  '(2,4)',\n",
       "  '(4,5)',\n",
       "  '(3,2)',\n",
       "  '(3,5)',\n",
       "  '(5,4)'])"
      ]
     },
     "execution_count": 63,
     "metadata": {},
     "output_type": "execute_result"
    }
   ],
   "source": [
    "SPANNINGTREE(G_18)"
   ]
  },
  {
   "cell_type": "code",
   "execution_count": 93,
   "metadata": {},
   "outputs": [],
   "source": [
    "G_18.Arcs= ['(0,2)',\n",
    "             '(0,4)',\n",
    "             '(1,0)',\n",
    "             '(2,3)',\n",
    "             '(2,4)',\n",
    "             '(3,5)',\n",
    "             '(4,5)' ]"
   ]
  },
  {
   "cell_type": "code",
   "execution_count": 101,
   "metadata": {},
   "outputs": [
    {
     "data": {
      "text/plain": [
       "<bound method direct_multigraph.generate_in_out_InMatrix of <Graph_tool.direct_multigraph object at 0x000002C43F7DAD00>>"
      ]
     },
     "execution_count": 101,
     "metadata": {},
     "output_type": "execute_result"
    }
   ],
   "source": [
    "G_18.generate_in_out_InMatrix"
   ]
  },
  {
   "cell_type": "code",
   "execution_count": 102,
   "metadata": {},
   "outputs": [
    {
     "data": {
      "text/plain": [
       "array([[0, 0, 0, 0, 0, 0, 0, 0, 0],\n",
       "       [1, 0, 0, 0, 0, 1, 0, 0, 0],\n",
       "       [0, 0, 0, 1, 0, 0, 0, 0, 0],\n",
       "       [0, 1, 0, 0, 1, 0, 0, 0, 1],\n",
       "       [0, 0, 0, 0, 0, 0, 1, 1, 0],\n",
       "       [0, 0, 1, 0, 0, 0, 0, 0, 0]], dtype=uint32)"
      ]
     },
     "execution_count": 102,
     "metadata": {},
     "output_type": "execute_result"
    }
   ],
   "source": [
    "G_18.inInMatrix"
   ]
  },
  {
   "cell_type": "code",
   "execution_count": 28,
   "metadata": {},
   "outputs": [
    {
     "data": {
      "text/plain": [
       "['0', '1', '2', '3', '4', '5']"
      ]
     },
     "execution_count": 28,
     "metadata": {},
     "output_type": "execute_result"
    }
   ],
   "source": [
    "G_18.Nodes"
   ]
  },
  {
   "cell_type": "code",
   "execution_count": null,
   "metadata": {},
   "outputs": [],
   "source": [
    "def generate_InMatrix(self):\n",
    "    for i in range(len(self.Edges)):\n",
    "    comma=int(self.Edges[i].find(','))\n",
    "    a=int(self.Edges[i][1:comma])\n",
    "    b=int(self.Edges[i][comma+1:-1])\n",
    "\n",
    "    self.inMatrix[a,i] =1\n",
    "    self.inMatrix[b,i] =1"
   ]
  },
  {
   "cell_type": "code",
   "execution_count": 3,
   "metadata": {},
   "outputs": [],
   "source": [
    "G_19=mg(6,7)"
   ]
  },
  {
   "cell_type": "code",
   "execution_count": 4,
   "metadata": {},
   "outputs": [],
   "source": [
    "G_19.Vertices=['0', '1', '2', '3', '4', '5']"
   ]
  },
  {
   "cell_type": "code",
   "execution_count": 5,
   "metadata": {},
   "outputs": [],
   "source": [
    "G_19.Edges=['(0,2)',\n",
    "             '(0,4)',\n",
    "             '(1,0)',\n",
    "             '(2,3)',\n",
    "             '(2,4)',\n",
    "             '(3,5)',\n",
    "             '(4,5)' ]"
   ]
  },
  {
   "cell_type": "code",
   "execution_count": 6,
   "metadata": {},
   "outputs": [
    {
     "name": "stdout",
     "output_type": "stream",
     "text": [
      "0 2\n",
      "0 4\n",
      "1 0\n",
      "2 3\n",
      "2 4\n",
      "3 5\n",
      "4 5\n"
     ]
    }
   ],
   "source": [
    "G_19.generate_InMatrix()\n",
    "G_19.generate_adjMatrix()"
   ]
  },
  {
   "cell_type": "code",
   "execution_count": 7,
   "metadata": {},
   "outputs": [
    {
     "data": {
      "text/plain": [
       "array([[1, 1, 1, 0, 0, 0, 0],\n",
       "       [0, 0, 1, 0, 0, 0, 0],\n",
       "       [1, 0, 0, 1, 1, 0, 0],\n",
       "       [0, 0, 0, 1, 0, 1, 0],\n",
       "       [0, 1, 0, 0, 1, 0, 1],\n",
       "       [0, 0, 0, 0, 0, 1, 1]], dtype=uint32)"
      ]
     },
     "execution_count": 7,
     "metadata": {},
     "output_type": "execute_result"
    }
   ],
   "source": [
    "G_19.inMatrix"
   ]
  },
  {
   "cell_type": "code",
   "execution_count": 17,
   "metadata": {},
   "outputs": [
    {
     "data": {
      "text/plain": [
       "array([[0, 1, 1, 0, 1, 0],\n",
       "       [1, 0, 0, 0, 0, 0],\n",
       "       [1, 0, 0, 1, 1, 0],\n",
       "       [0, 0, 1, 0, 0, 1],\n",
       "       [1, 0, 1, 0, 0, 1],\n",
       "       [0, 0, 0, 1, 1, 0]], dtype=uint32)"
      ]
     },
     "execution_count": 17,
     "metadata": {},
     "output_type": "execute_result"
    }
   ],
   "source": [
    "G_19.adjMatrix"
   ]
  },
  {
   "cell_type": "code",
   "execution_count": 9,
   "metadata": {},
   "outputs": [
    {
     "data": {
      "text/plain": [
       "['0', '1', '2', '3', '4', '5']"
      ]
     },
     "execution_count": 9,
     "metadata": {},
     "output_type": "execute_result"
    }
   ],
   "source": [
    "G_19.Vertices"
   ]
  },
  {
   "cell_type": "code",
   "execution_count": 22,
   "metadata": {},
   "outputs": [],
   "source": [
    "def succ(u):\n",
    "    k=0\n",
    "    result=[]\n",
    "    for i in G_19.adjMatrix[G_19.Vertices.index(u)]:\n",
    "        if i==1:\n",
    "            result.append(G_19.Vertices[k])\n",
    "        k+=1\n",
    "    return result"
   ]
  },
  {
   "cell_type": "code",
   "execution_count": 23,
   "metadata": {},
   "outputs": [
    {
     "data": {
      "text/plain": [
       "['1', '2', '4']"
      ]
     },
     "execution_count": 23,
     "metadata": {},
     "output_type": "execute_result"
    }
   ],
   "source": [
    "succ('0')"
   ]
  },
  {
   "cell_type": "code",
   "execution_count": 158,
   "metadata": {
    "collapsed": true,
    "jupyter": {
     "outputs_hidden": true
    }
   },
   "outputs": [
    {
     "name": "stdout",
     "output_type": "stream",
     "text": [
      "0 2\n",
      "[[1 0 0 0 0 0 0]\n",
      " [0 0 0 0 0 0 0]\n",
      " [1 0 0 0 0 0 0]\n",
      " [0 0 0 0 0 0 0]\n",
      " [0 0 0 0 0 0 0]\n",
      " [0 0 0 0 0 0 0]]\n",
      "0 4\n",
      "[[1 1 0 0 0 0 0]\n",
      " [0 0 0 0 0 0 0]\n",
      " [1 0 0 0 0 0 0]\n",
      " [0 0 0 0 0 0 0]\n",
      " [0 1 0 0 0 0 0]\n",
      " [0 0 0 0 0 0 0]]\n",
      "1 0\n",
      "[[1 1 1 0 0 0 0]\n",
      " [0 0 1 0 0 0 0]\n",
      " [1 0 0 0 0 0 0]\n",
      " [0 0 0 0 0 0 0]\n",
      " [0 1 0 0 0 0 0]\n",
      " [0 0 0 0 0 0 0]]\n",
      "2 3\n",
      "[[1 1 1 0 0 0 0]\n",
      " [0 0 1 0 0 0 0]\n",
      " [1 0 0 1 0 0 0]\n",
      " [0 0 0 1 0 0 0]\n",
      " [0 1 0 0 0 0 0]\n",
      " [0 0 0 0 0 0 0]]\n",
      "2 4\n",
      "[[1 1 1 0 0 0 0]\n",
      " [0 0 1 0 0 0 0]\n",
      " [1 0 0 1 1 0 0]\n",
      " [0 0 0 1 0 0 0]\n",
      " [0 1 0 0 1 0 0]\n",
      " [0 0 0 0 0 0 0]]\n",
      "3 5\n",
      "[[1 1 1 0 0 0 0]\n",
      " [0 0 1 0 0 0 0]\n",
      " [1 0 0 1 1 0 0]\n",
      " [0 0 0 1 0 1 0]\n",
      " [0 1 0 0 1 0 0]\n",
      " [0 0 0 0 0 1 0]]\n",
      "4 5\n",
      "[[1 1 1 0 0 0 0]\n",
      " [0 0 1 0 0 0 0]\n",
      " [1 0 0 1 1 0 0]\n",
      " [0 0 0 1 0 1 0]\n",
      " [0 1 0 0 1 0 1]\n",
      " [0 0 0 0 0 1 1]]\n"
     ]
    }
   ],
   "source": [
    "for i in range(len(G_19.Edges)):\n",
    "    comma=int(G_19.Edges[i].find(','))\n",
    "    a=int(G_19.Edges[i][1:comma])\n",
    "    b=int(G_19.Edges[i][comma+1:-1])\n",
    "\n",
    "    G_19.inMatrix[a,i] =1\n",
    "    G_19.inMatrix[b,i] =1\n"
   ]
  },
  {
   "cell_type": "code",
   "execution_count": null,
   "metadata": {},
   "outputs": [],
   "source": []
  },
  {
   "cell_type": "code",
   "execution_count": 159,
   "metadata": {},
   "outputs": [
    {
     "data": {
      "text/plain": [
       "array([[1, 1, 1, 0, 0, 0, 0],\n",
       "       [0, 0, 1, 0, 0, 0, 0],\n",
       "       [1, 0, 0, 1, 1, 0, 0],\n",
       "       [0, 0, 0, 1, 0, 1, 0],\n",
       "       [0, 1, 0, 0, 1, 0, 1],\n",
       "       [0, 0, 0, 0, 0, 1, 1]], dtype=uint32)"
      ]
     },
     "execution_count": 159,
     "metadata": {},
     "output_type": "execute_result"
    }
   ],
   "source": [
    "G_19.inMatrix"
   ]
  },
  {
   "cell_type": "code",
   "execution_count": 70,
   "metadata": {},
   "outputs": [],
   "source": [
    "G_19=mg(5,7)\n",
    "G_19.Edges=['(0,2)',\n",
    "             '(0,4)',\n",
    "             '(1,0)',\n",
    "             '(2,3)',\n",
    "             '(2,4)',\n",
    "             '(3,5)',\n",
    "             '(4,5)' ]\n",
    "G_19.Nodes=G_18.Nodes"
   ]
  },
  {
   "cell_type": "code",
   "execution_count": 36,
   "metadata": {},
   "outputs": [],
   "source": [
    "def DEPTHFIRSTTRAVERSAL(G,v):\n",
    "    def succ(u):\n",
    "        k=0\n",
    "        result=[]\n",
    "        for i in G.adjMatrix[G.Vertices.index(u)]:\n",
    "            if i==1:\n",
    "                result.append(G.Vertices[k])\n",
    "            k+=1\n",
    "        return result\n",
    "    componemt=[]\n",
    "    componemt.append(v)\n",
    "    while len(componemt)!=len(G.Edges):\n",
    "        i=len(componemt)\n",
    "        X=list(set(succ(componemt[i])) - set(Component))\n",
    "        while X :\n",
    "            i=i-1\n",
    "            X=list(set(succ(componemt[i])) - set(Component))\n",
    "        for x in X :\n",
    "            if x not in Component:\n",
    "                Component.append(x)"
   ]
  },
  {
   "cell_type": "code",
   "execution_count": 30,
   "metadata": {},
   "outputs": [
    {
     "data": {
      "text/plain": [
       "['(0,2)', '(0,4)', '(1,0)', '(2,3)', '(2,4)', '(3,5)', '(4,5)']"
      ]
     },
     "execution_count": 30,
     "metadata": {},
     "output_type": "execute_result"
    }
   ],
   "source": [
    "G_19.Edges"
   ]
  },
  {
   "cell_type": "code",
   "execution_count": 37,
   "metadata": {},
   "outputs": [
    {
     "ename": "IndexError",
     "evalue": "list index out of range",
     "output_type": "error",
     "traceback": [
      "\u001b[1;31m---------------------------------------------------------------------------\u001b[0m",
      "\u001b[1;31mIndexError\u001b[0m                                Traceback (most recent call last)",
      "\u001b[1;32m<ipython-input-37-fb1ad59dffb3>\u001b[0m in \u001b[0;36m<module>\u001b[1;34m\u001b[0m\n\u001b[1;32m----> 1\u001b[1;33m \u001b[0mDEPTHFIRSTTRAVERSAL\u001b[0m\u001b[1;33m(\u001b[0m\u001b[0mG_19\u001b[0m\u001b[1;33m,\u001b[0m\u001b[1;34m'0'\u001b[0m\u001b[1;33m)\u001b[0m\u001b[1;33m\u001b[0m\u001b[1;33m\u001b[0m\u001b[0m\n\u001b[0m",
      "\u001b[1;32m<ipython-input-36-97e91b7571fc>\u001b[0m in \u001b[0;36mDEPTHFIRSTTRAVERSAL\u001b[1;34m(G, v)\u001b[0m\n\u001b[0;32m     12\u001b[0m     \u001b[1;32mwhile\u001b[0m \u001b[0mlen\u001b[0m\u001b[1;33m(\u001b[0m\u001b[0mcomponemt\u001b[0m\u001b[1;33m)\u001b[0m\u001b[1;33m!=\u001b[0m\u001b[0mlen\u001b[0m\u001b[1;33m(\u001b[0m\u001b[0mG\u001b[0m\u001b[1;33m.\u001b[0m\u001b[0mEdges\u001b[0m\u001b[1;33m)\u001b[0m\u001b[1;33m:\u001b[0m\u001b[1;33m\u001b[0m\u001b[1;33m\u001b[0m\u001b[0m\n\u001b[0;32m     13\u001b[0m         \u001b[0mi\u001b[0m\u001b[1;33m=\u001b[0m\u001b[0mlen\u001b[0m\u001b[1;33m(\u001b[0m\u001b[0mcomponemt\u001b[0m\u001b[1;33m)\u001b[0m\u001b[1;33m\u001b[0m\u001b[1;33m\u001b[0m\u001b[0m\n\u001b[1;32m---> 14\u001b[1;33m         \u001b[0mX\u001b[0m\u001b[1;33m=\u001b[0m\u001b[0mlist\u001b[0m\u001b[1;33m(\u001b[0m\u001b[0mset\u001b[0m\u001b[1;33m(\u001b[0m\u001b[0msucc\u001b[0m\u001b[1;33m(\u001b[0m\u001b[0mcomponemt\u001b[0m\u001b[1;33m[\u001b[0m\u001b[0mi\u001b[0m\u001b[1;33m]\u001b[0m\u001b[1;33m)\u001b[0m\u001b[1;33m)\u001b[0m \u001b[1;33m-\u001b[0m \u001b[0mset\u001b[0m\u001b[1;33m(\u001b[0m\u001b[0mComponent\u001b[0m\u001b[1;33m)\u001b[0m\u001b[1;33m)\u001b[0m\u001b[1;33m\u001b[0m\u001b[1;33m\u001b[0m\u001b[0m\n\u001b[0m\u001b[0;32m     15\u001b[0m         \u001b[1;32mwhile\u001b[0m \u001b[0mX\u001b[0m \u001b[1;33m:\u001b[0m\u001b[1;33m\u001b[0m\u001b[1;33m\u001b[0m\u001b[0m\n\u001b[0;32m     16\u001b[0m             \u001b[0mi\u001b[0m\u001b[1;33m=\u001b[0m\u001b[0mi\u001b[0m\u001b[1;33m-\u001b[0m\u001b[1;36m1\u001b[0m\u001b[1;33m\u001b[0m\u001b[1;33m\u001b[0m\u001b[0m\n",
      "\u001b[1;31mIndexError\u001b[0m: list index out of range"
     ]
    }
   ],
   "source": [
    "DEPTHFIRSTTRAVERSAL(G_19,'0')"
   ]
  },
  {
   "cell_type": "code",
   "execution_count": 69,
   "metadata": {},
   "outputs": [],
   "source": [
    "Graph_dir=r'C:\\Users\\Mr Nam\\Desktop\\TP\\Graph'\n",
    "Graph_1_18_dir=os.path.join(Graph_dir,'Graph_1_18')\n",
    "\n",
    "G_18=dmg(6,9)\n",
    "G_18.read_nodes(os.path.join(Graph_1_18_dir,'nodes.txt'))\n",
    "G_18.read_arcs(os.path.join(Graph_1_18_dir,'arcs.txt'))\n",
    "G_18.read_adjMatrix(os.path.join(Graph_1_18_dir,'adjMatrix.txt'))\n",
    "G_18.read_inInMatrix(os.path.join(Graph_1_18_dir,'inInMatrix.txt'))\n",
    "G_18.read_outInMatrix(os.path.join(Graph_1_18_dir,'outInMatrix.txt'))"
   ]
  },
  {
   "cell_type": "code",
   "execution_count": 70,
   "metadata": {},
   "outputs": [
    {
     "name": "stdout",
     "output_type": "stream",
     "text": [
      "dijkstra with figure 1.21\n",
      "Vertex \tDistance from Source\n",
      "0 \t 0\n",
      "1 \t 9223372036854775807\n",
      "2 \t 9223372036854775807\n",
      "3 \t 9223372036854775807\n",
      "4 \t 9223372036854775807\n",
      "5 \t 9223372036854775807\n"
     ]
    }
   ],
   "source": [
    "def min_distance(dist, sptSet):\n",
    "    min_value = sys.maxsize \n",
    "    min_index=-1\n",
    "    for v in range(len(dist)): \n",
    "        if dist[v] < min_value and sptSet[v] == False: \n",
    "            min_value = dist[v] \n",
    "            min_index = v \n",
    "    return min_index \n",
    "\n",
    "def printSolution( dist,number_value): \n",
    "    print(\"Vertex \\tDistance from Source\")\n",
    "    for node in range(number_value): \n",
    "        print (node, \"\\t\", dist[node])\n",
    "\n",
    "def dijkstra(graph,src): \n",
    "\n",
    "    dist = [sys.maxsize] * len(graph)\n",
    "    dist[src] = 0\n",
    "    sptSet = [False] * len(graph)\n",
    "\n",
    "    for cout in range(len(graph)): \n",
    "\n",
    "        u = min_distance(dist, sptSet) \n",
    "        \n",
    "        sptSet[u] = True\n",
    "        \n",
    "        for v in range(len(graph)): \n",
    "            if graph[u][v] > 0 and sptSet[v] == False and dist[v] > dist[u] + graph[u][v]:\n",
    "                    dist[v] = dist[u] + graph[u][v]\n",
    "    printSolution(dist,len(graph))\n",
    "\n",
    "print('dijkstra with figure 1.21')\n",
    "dijkstra(G_18.Weight,0)"
   ]
  },
  {
   "cell_type": "code",
   "execution_count": 66,
   "metadata": {},
   "outputs": [
    {
     "name": "stdout",
     "output_type": "stream",
     "text": [
      "len(G_19.Vertices): 6\n",
      "componemt: ['0']\n",
      "1\n",
      "['2', '4', '1']\n",
      "len(G_19.Vertices): 6\n",
      "componemt: ['0', '2', '4', '1']\n",
      "4\n",
      "[]\n",
      "here\n",
      "['0']\n",
      "len(G_19.Vertices): 6\n",
      "componemt: ['0', '2', '4', '1', '5']\n",
      "5\n",
      "['3']\n"
     ]
    }
   ],
   "source": [
    "v='0'\n",
    "nam=0\n",
    "componemt=[]\n",
    "componemt.append(v)\n",
    "while len(componemt)!=len(G_19.Vertices):\n",
    "    i=len(componemt)\n",
    "    X=list(set(succ(componemt[i-1])) - set(componemt))\n",
    "    while len(X)==0:\n",
    "        i=i-1\n",
    "        X=list(set(succ(componemt[i-1])) - set(componemt))\n",
    "    for x in X :\n",
    "        if x not in componemt:\n",
    "            componemt.append(x)"
   ]
  },
  {
   "cell_type": "code",
   "execution_count": 68,
   "metadata": {},
   "outputs": [
    {
     "data": {
      "text/plain": [
       "['0', '2', '4', '1', '5', '3']"
      ]
     },
     "execution_count": 68,
     "metadata": {},
     "output_type": "execute_result"
    }
   ],
   "source": [
    "componemt"
   ]
  },
  {
   "cell_type": "code",
   "execution_count": 39,
   "metadata": {},
   "outputs": [],
   "source": [
    "def succ(u):\n",
    "    k=0\n",
    "    result=[]\n",
    "    for i in G_19.adjMatrix[G_19.Vertices.index(u)]:\n",
    "        if i==1:\n",
    "            result.append(G_19.Vertices[k])\n",
    "        k+=1\n",
    "    return result\n"
   ]
  },
  {
   "cell_type": "code",
   "execution_count": 38,
   "metadata": {},
   "outputs": [
    {
     "data": {
      "text/plain": [
       "['0', '1', '2', '3', '4', '5']"
      ]
     },
     "execution_count": 38,
     "metadata": {},
     "output_type": "execute_result"
    }
   ],
   "source": [
    "succ(G_19)"
   ]
  },
  {
   "cell_type": "code",
   "execution_count": null,
   "metadata": {},
   "outputs": [],
   "source": []
  }
 ],
 "metadata": {
  "kernelspec": {
   "display_name": "Python 3",
   "language": "python",
   "name": "python3"
  },
  "language_info": {
   "codemirror_mode": {
    "name": "ipython",
    "version": 3
   },
   "file_extension": ".py",
   "mimetype": "text/x-python",
   "name": "python",
   "nbconvert_exporter": "python",
   "pygments_lexer": "ipython3",
   "version": "3.8.5"
  }
 },
 "nbformat": 4,
 "nbformat_minor": 4
}
